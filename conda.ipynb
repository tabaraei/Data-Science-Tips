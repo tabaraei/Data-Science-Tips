{
  "nbformat": 4,
  "nbformat_minor": 0,
  "metadata": {
    "colab": {
      "name": "conda.ipynb",
      "provenance": [],
      "authorship_tag": "ABX9TyPG6fnpFQp0v2PpMTCrJMWR",
      "include_colab_link": true
    },
    "kernelspec": {
      "name": "python3",
      "display_name": "Python 3"
    },
    "language_info": {
      "name": "python"
    }
  },
  "cells": [
    {
      "cell_type": "markdown",
      "metadata": {
        "id": "view-in-github",
        "colab_type": "text"
      },
      "source": [
        "<a href=\"https://colab.research.google.com/github/tabaraei/Data-Science-Tips/blob/master/conda.ipynb\" target=\"_parent\"><img src=\"https://colab.research.google.com/assets/colab-badge.svg\" alt=\"Open In Colab\"/></a>"
      ]
    },
    {
      "cell_type": "markdown",
      "metadata": {
        "id": "z-zzLDPjfTu0"
      },
      "source": [
        "Installation steps missing ..."
      ]
    },
    {
      "cell_type": "markdown",
      "metadata": {
        "id": "mVJjod2Ffb3I"
      },
      "source": [
        "### Add auto-completion to local Jupyter notebooks:"
      ]
    },
    {
      "cell_type": "markdown",
      "metadata": {
        "id": "cKOqcONRfp7_"
      },
      "source": [
        "```bash\n",
        "conda install -c conda-forge jupyter_nbextensions_configurator\n",
        "jupyter nbextensions_configurator enable --user\n",
        "```"
      ]
    }
  ]
}