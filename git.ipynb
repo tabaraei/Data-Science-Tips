{
  "nbformat": 4,
  "nbformat_minor": 0,
  "metadata": {
    "colab": {
      "name": "git.ipynb",
      "provenance": [],
      "authorship_tag": "ABX9TyNpLlvSEvuDSycM0OYl4QJ9",
      "include_colab_link": true
    },
    "kernelspec": {
      "name": "python3",
      "display_name": "Python 3"
    },
    "language_info": {
      "name": "python"
    }
  },
  "cells": [
    {
      "cell_type": "markdown",
      "metadata": {
        "id": "view-in-github",
        "colab_type": "text"
      },
      "source": [
        "<a href=\"https://colab.research.google.com/github/tabaraei/Data-Science-Tips/blob/master/git.ipynb\" target=\"_parent\"><img src=\"https://colab.research.google.com/assets/colab-badge.svg\" alt=\"Open In Colab\"/></a>"
      ]
    },
    {
      "cell_type": "markdown",
      "metadata": {
        "id": "TWq40sXPOb9P"
      },
      "source": [
        "### install.sh"
      ]
    },
    {
      "cell_type": "markdown",
      "metadata": {
        "id": "kwlukK0wPw6B"
      },
      "source": [
        "```bash\n",
        "app=your-app-name\n",
        "\n",
        "cd ~/Desktop\n",
        "git clone http://gitlab.somewhere.io/tabaraei/${app}.git\n",
        "cd ${app}\n",
        "py -3 -m venv venv\n",
        "source venv/Scripts/activate\n",
        "py -m pip install --upgrade pip\n",
        "pip install -r requirements.txt\n",
        "py main.py\n",
        "```"
      ]
    },
    {
      "cell_type": "markdown",
      "metadata": {
        "id": "YGnJv-M-PAW7"
      },
      "source": [
        "In order to call `install.sh` from Git-Bash terminal, run the following command:\n",
        "```bash\n",
        "curl http://gitlab.somewhere.io/tabaraei/your-app-name/raw/master/install.sh -sSf | bash\n",
        "```"
      ]
    }
  ]
}