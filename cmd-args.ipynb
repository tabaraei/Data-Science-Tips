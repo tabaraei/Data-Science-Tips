{
  "nbformat": 4,
  "nbformat_minor": 0,
  "metadata": {
    "colab": {
      "name": "cmd-args.ipynb",
      "provenance": [],
      "collapsed_sections": [],
      "authorship_tag": "ABX9TyMiyG8ZkUxICsCqr/AtHkya",
      "include_colab_link": true
    },
    "kernelspec": {
      "name": "python3",
      "display_name": "Python 3"
    },
    "language_info": {
      "name": "python"
    }
  },
  "cells": [
    {
      "cell_type": "markdown",
      "metadata": {
        "id": "view-in-github",
        "colab_type": "text"
      },
      "source": [
        "<a href=\"https://colab.research.google.com/github/tabaraei/Data-Science-Tips/blob/master/cmd_args.ipynb\" target=\"_parent\"><img src=\"https://colab.research.google.com/assets/colab-badge.svg\" alt=\"Open In Colab\"/></a>"
      ]
    },
    {
      "cell_type": "markdown",
      "metadata": {
        "id": "Y75p8Y6gqY3p"
      },
      "source": [
        "## 1- click"
      ]
    },
    {
      "cell_type": "markdown",
      "metadata": {
        "id": "hBf3MvyrtW9a"
      },
      "source": [
        "Run the following command inside CMD to execute Python code using command-line args.\n",
        "```bash\n",
        "py main.py --argone \"value_one\" --argtwo 365 --flag-one\n",
        "```"
      ]
    },
    {
      "cell_type": "code",
      "metadata": {
        "id": "MNq9pdWpisi-"
      },
      "source": [
        "import click\n",
        "\n",
        "@click.command()\n",
        "@click.option(\"--argone\")\n",
        "@click.option(\"--argtwo\", type=int)\n",
        "@click.option(\"--flag-one\", required=False, is_flag=True, flag_value=True)\n",
        "def cli(argone: str, argtwo: int, flag_one: bool):\n",
        "  # You have access to the variables here\n",
        "\n",
        "if __name__ == \"__main__\":\n",
        "  cli()"
      ],
      "execution_count": null,
      "outputs": []
    },
    {
      "cell_type": "markdown",
      "metadata": {
        "id": "85dmM3FDq817"
      },
      "source": [
        "## 2- argparse"
      ]
    },
    {
      "cell_type": "code",
      "metadata": {
        "id": "l27SSgxyi-M2"
      },
      "source": [
        "import argparse\n",
        "\n",
        "def _parse_args():\n",
        "    parser = argparse.ArgumentParser(\n",
        "        description=\"A description of application\"\n",
        "    )\n",
        "\n",
        "    parser.add_argument(\n",
        "        \"--argone\",\n",
        "        type=str,\n",
        "        default=\"default_value\",\n",
        "        help=\"Given description for help\",\n",
        "    )\n",
        "    parser.add_argument(\n",
        "        \"--argtwo\",\n",
        "        type=str,\n",
        "        nargs=\"+\",\n",
        "        default=[\"value_1\", \"value_2\", \"value_3\"],\n",
        "        help=\"Given description for help\",\n",
        "    )\n",
        "    parser.add_argument(\n",
        "        \"--argthree\",\n",
        "        type=int,\n",
        "        default=365,\n",
        "        help=\"Given description for help\",\n",
        "    )\n",
        "    parser.add_argument(\n",
        "        \"--argfour\",\n",
        "        action=\"store_true\",\n",
        "        help=\"Given description for help\",\n",
        "    )\n",
        "    return parser.parse_args()"
      ],
      "execution_count": null,
      "outputs": []
    }
  ]
}
