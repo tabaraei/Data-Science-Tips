{
  "nbformat": 4,
  "nbformat_minor": 0,
  "metadata": {
    "colab": {
      "name": "REST_API.ipynb",
      "provenance": [],
      "authorship_tag": "ABX9TyOqdL8+OyIjcdbH9Hr3vvTA",
      "include_colab_link": true
    },
    "kernelspec": {
      "name": "python3",
      "display_name": "Python 3"
    },
    "language_info": {
      "name": "python"
    }
  },
  "cells": [
    {
      "cell_type": "markdown",
      "metadata": {
        "id": "view-in-github",
        "colab_type": "text"
      },
      "source": [
        "<a href=\"https://colab.research.google.com/github/tabaraei/Data-Science-Tips/blob/master/REST_API.ipynb\" target=\"_parent\"><img src=\"https://colab.research.google.com/assets/colab-badge.svg\" alt=\"Open In Colab\"/></a>"
      ]
    },
    {
      "cell_type": "markdown",
      "metadata": {
        "id": "7DVM7p7235zy"
      },
      "source": [
        "## Flask"
      ]
    },
    {
      "cell_type": "code",
      "metadata": {
        "id": "MePh8igO30lE"
      },
      "source": [
        ""
      ],
      "execution_count": null,
      "outputs": []
    },
    {
      "cell_type": "markdown",
      "metadata": {
        "id": "ZgulVfoo39Qd"
      },
      "source": [
        "## Django"
      ]
    },
    {
      "cell_type": "markdown",
      "metadata": {
        "id": "dSMNbnPD5GBx"
      },
      "source": [
        "#### 1- Create a virutal environment and install Django"
      ]
    },
    {
      "cell_type": "code",
      "metadata": {
        "id": "pBBU2Z1Q4RfT"
      },
      "source": [
        "py -3.7 -m venv venv\n",
        ".\\venv\\Scripts\\activate\n",
        "py -m pip install --upgrade pip\n",
        "pip install django djangorestframework"
      ],
      "execution_count": null,
      "outputs": []
    },
    {
      "cell_type": "markdown",
      "metadata": {
        "id": "gk7kIA0G5TZv"
      },
      "source": [
        "### 2- Create a new project"
      ]
    },
    {
      "cell_type": "code",
      "metadata": {
        "id": "DUXI6oJH5USy"
      },
      "source": [
        "django-admin startproject myProject\n",
        "django-admin startapp myApp"
      ],
      "execution_count": null,
      "outputs": []
    },
    {
      "cell_type": "markdown",
      "metadata": {
        "id": "9y9HU8XGKOKu"
      },
      "source": [
        "Cut all the contents of `myProject` into the current directory, then:"
      ]
    },
    {
      "cell_type": "code",
      "metadata": {
        "id": "Ab3HUutLKOyb"
      },
      "source": [
        "py manage.py migrate\n",
        "code ."
      ],
      "execution_count": null,
      "outputs": []
    },
    {
      "cell_type": "markdown",
      "metadata": {
        "id": "NcnZ1hn--moO"
      },
      "source": [
        "Finally, go to `myProject/settings.py`, and add your application name, `myApp`, to the `INSTALLED_APPS`."
      ]
    },
    {
      "cell_type": "markdown",
      "metadata": {
        "id": "HkSs6MZ4_ihw"
      },
      "source": [
        "### 3- Run the project"
      ]
    },
    {
      "cell_type": "code",
      "metadata": {
        "id": "6RyV1Tt3_Xjo"
      },
      "source": [
        "py manage.py runserver"
      ],
      "execution_count": null,
      "outputs": []
    },
    {
      "cell_type": "markdown",
      "metadata": {
        "id": "wecQYo8Nkq2T"
      },
      "source": [
        "### 4- Add API to the existing project"
      ]
    },
    {
      "cell_type": "markdown",
      "metadata": {
        "id": "-_Jl-V-ilQtZ"
      },
      "source": [
        "`myProject/settings.py`:"
      ]
    },
    {
      "cell_type": "code",
      "metadata": {
        "id": "Hethxn-clwYP"
      },
      "source": [
        "INSTALLED_APPS = [\n",
        "    'django.contrib.admin',\n",
        "    'django.contrib.auth',\n",
        "    'django.contrib.contenttypes',\n",
        "    'django.contrib.sessions',\n",
        "    'django.contrib.messages',\n",
        "    'django.contrib.staticfiles',\n",
        "\n",
        "    'myApp',\n",
        "    'rest_framework'  # add this line\n",
        "]"
      ],
      "execution_count": null,
      "outputs": []
    },
    {
      "cell_type": "markdown",
      "metadata": {
        "id": "D5wN1-R8mABK"
      },
      "source": [
        "`myProject/urls.py`:"
      ]
    },
    {
      "cell_type": "code",
      "metadata": {
        "id": "HMRbnLqfmPJ2"
      },
      "source": [
        "from django.contrib import admin\n",
        "from django.urls import path, include   # addd include\n",
        "\n",
        "urlpatterns = [\n",
        "    path('admin/', admin.site.urls),\n",
        "    path('', include('myApp.urls'))  # add this line\n",
        "]"
      ],
      "execution_count": null,
      "outputs": []
    },
    {
      "cell_type": "markdown",
      "metadata": {
        "id": "-Q6ncp8InbHA"
      },
      "source": [
        "`myApp/views.py`:"
      ]
    },
    {
      "cell_type": "code",
      "metadata": {
        "id": "PrUB6fUCnfbO"
      },
      "source": [
        "from rest_framework.decorators import api_view\n",
        "from rest_framework.response import Response\n",
        "from rest_framework import status\n",
        "\n",
        "\n",
        "@api_view(['GET', 'POST'])\n",
        "def hello(request):\n",
        "    try:\n",
        "        if request.method == 'GET':\n",
        "            return Response({'message': 'Hello, World!'})\n",
        "        else:\n",
        "            return Response({'message': f'Hello, {request.data[\"name\"]}'})\n",
        "    except:\n",
        "        return Response({'error': 'Error happened'}, status=status.HTTP_400_BAD_REQUEST)"
      ],
      "execution_count": null,
      "outputs": []
    },
    {
      "cell_type": "markdown",
      "metadata": {
        "id": "zVMcbiwgoSK-"
      },
      "source": [
        "`myApp/urls.py` (Should be created):"
      ]
    },
    {
      "cell_type": "code",
      "metadata": {
        "id": "p_56ZLO5obeA"
      },
      "source": [
        "from django.urls import path\n",
        "from myApp import views\n",
        "\n",
        "urlpatterns = [\n",
        "    path('hello', views.hello)\n",
        "]"
      ],
      "execution_count": null,
      "outputs": []
    }
  ]
}