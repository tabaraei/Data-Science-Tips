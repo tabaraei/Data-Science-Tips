{
  "nbformat": 4,
  "nbformat_minor": 0,
  "metadata": {
    "colab": {
      "name": "REST_API.ipynb",
      "provenance": [],
      "authorship_tag": "ABX9TyNKF7utn3d7mDC2S0zJXJon",
      "include_colab_link": true
    },
    "kernelspec": {
      "name": "python3",
      "display_name": "Python 3"
    },
    "language_info": {
      "name": "python"
    }
  },
  "cells": [
    {
      "cell_type": "markdown",
      "metadata": {
        "id": "view-in-github",
        "colab_type": "text"
      },
      "source": [
        "<a href=\"https://colab.research.google.com/github/tabaraei/Data-Science-Tips/blob/master/REST_API.ipynb\" target=\"_parent\"><img src=\"https://colab.research.google.com/assets/colab-badge.svg\" alt=\"Open In Colab\"/></a>"
      ]
    },
    {
      "cell_type": "markdown",
      "metadata": {
        "id": "7DVM7p7235zy"
      },
      "source": [
        "### Flask"
      ]
    },
    {
      "cell_type": "code",
      "metadata": {
        "id": "MePh8igO30lE"
      },
      "source": [
        ""
      ],
      "execution_count": null,
      "outputs": []
    },
    {
      "cell_type": "markdown",
      "metadata": {
        "id": "ZgulVfoo39Qd"
      },
      "source": [
        "### Django"
      ]
    },
    {
      "cell_type": "markdown",
      "metadata": {
        "id": "dSMNbnPD5GBx"
      },
      "source": [
        "#### 1- Create a virutal environment and install Django"
      ]
    },
    {
      "cell_type": "code",
      "metadata": {
        "id": "pBBU2Z1Q4RfT"
      },
      "source": [
        "py -3.7 -m venv venv\n",
        ".\\venv\\Scripts\\activate\n",
        "py -m pip install --upgrade pip\n",
        "pip install django djangorestframework"
      ],
      "execution_count": null,
      "outputs": []
    },
    {
      "cell_type": "markdown",
      "metadata": {
        "id": "gk7kIA0G5TZv"
      },
      "source": [
        "#### 2- Create a new project"
      ]
    },
    {
      "cell_type": "code",
      "metadata": {
        "id": "DUXI6oJH5USy"
      },
      "source": [
        "django-admin startproject myProject\n",
        "django-admin startapp myApp"
      ],
      "execution_count": null,
      "outputs": []
    },
    {
      "cell_type": "markdown",
      "metadata": {
        "id": "9y9HU8XGKOKu"
      },
      "source": [
        "Cut all the contents of `myProject` into the current directory, then:"
      ]
    },
    {
      "cell_type": "code",
      "metadata": {
        "id": "Ab3HUutLKOyb"
      },
      "source": [
        "py manage.py migrate\n",
        "code ."
      ],
      "execution_count": null,
      "outputs": []
    },
    {
      "cell_type": "markdown",
      "metadata": {
        "id": "NcnZ1hn--moO"
      },
      "source": [
        "Finally, go to `myProject/settings.py`, and add your application name, `myApp`, to the `INSTALLED_APPS`."
      ]
    },
    {
      "cell_type": "markdown",
      "metadata": {
        "id": "HkSs6MZ4_ihw"
      },
      "source": [
        "#### 3- Run the project"
      ]
    },
    {
      "cell_type": "code",
      "metadata": {
        "id": "6RyV1Tt3_Xjo"
      },
      "source": [
        "py manage.py runserver"
      ],
      "execution_count": null,
      "outputs": []
    }
  ]
}