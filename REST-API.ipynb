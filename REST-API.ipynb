{
  "nbformat": 4,
  "nbformat_minor": 0,
  "metadata": {
    "colab": {
      "name": "REST_API.ipynb",
      "provenance": [],
      "authorship_tag": "ABX9TyPSGHkuU2MO43D/f7OBi1N3",
      "include_colab_link": true
    },
    "kernelspec": {
      "name": "python3",
      "display_name": "Python 3"
    },
    "language_info": {
      "name": "python"
    }
  },
  "cells": [
    {
      "cell_type": "markdown",
      "metadata": {
        "id": "view-in-github",
        "colab_type": "text"
      },
      "source": [
        "<a href=\"https://colab.research.google.com/github/tabaraei/Data-Science-Tips/blob/master/REST-API.ipynb\" target=\"_parent\"><img src=\"https://colab.research.google.com/assets/colab-badge.svg\" alt=\"Open In Colab\"/></a>"
      ]
    },
    {
      "cell_type": "markdown",
      "metadata": {
        "id": "7DVM7p7235zy"
      },
      "source": [
        "## Flask"
      ]
    },
    {
      "cell_type": "code",
      "metadata": {
        "id": "MePh8igO30lE"
      },
      "source": [
        "pip install flask"
      ],
      "execution_count": null,
      "outputs": []
    },
    {
      "cell_type": "markdown",
      "metadata": {
        "id": "OGR1jxp9HBdS"
      },
      "source": [
        "`api.py`:"
      ]
    },
    {
      "cell_type": "code",
      "metadata": {
        "id": "Fn8lTMgvAyO6"
      },
      "source": [
        "from flask import Flask, request, jsonify, render_template, redirect, url_for, abort\n",
        "from werkzeug.exceptions import HTTPException\n",
        "app = Flask(__name__)\n",
        "\n",
        "\n",
        "# home screen\n",
        "@app.route('/', methods=['GET'])\n",
        "def home():\n",
        "    return '<h1>Hello, World!</h1>'\n",
        "\n",
        "# main screen\n",
        "@app.route('/main', methods=['GET'])\n",
        "def main():\n",
        "    return render_template('main.html')\n",
        "\n",
        "# form submit\n",
        "@app.route('/api/form', methods=['POST'])\n",
        "def form():\n",
        "    return jsonify(request.form)\n",
        "\n",
        "# {url}?arg1=value1&arg2=value2\n",
        "@app.route('/api/params', methods=['POST', 'GET'])\n",
        "def params():\n",
        "    try: return jsonify(request.args)\n",
        "    except: return redirect(url_for('page_not_found'))\n",
        "\n",
        "# error handler\n",
        "@app.errorhandler(404)\n",
        "def page_not_found(e):\n",
        "    return '<h1>404</h1><p>The resource could not be found.</p>', 404\n",
        "\n",
        "# JSON\n",
        "@app.route('/api/json', methods=['POST'])\n",
        "def JSON():\n",
        "    try: return jsonify(request.json)\n",
        "    except: abort(400, description=\"error message\")\n",
        "\n",
        "# REST-API error handler\n",
        "@app.errorhandler(Exception)\n",
        "def error_handler(e):\n",
        "    if isinstance(e, HTTPException):\n",
        "        return jsonify(error=str(e)), e.code\n",
        "    else:\n",
        "        return jsonify(error=str(e)), 500\n",
        "\n",
        "\n",
        "if __name__ == '__main__':\n",
        "    app.run(debug=True, host='127.0.0.1', port=8080)"
      ],
      "execution_count": null,
      "outputs": []
    },
    {
      "cell_type": "markdown",
      "metadata": {
        "id": "HL59UX_4GwL2"
      },
      "source": [
        "`templates/main.html`:"
      ]
    },
    {
      "cell_type": "code",
      "metadata": {
        "id": "rh4OOdD6HBDU"
      },
      "source": [
        "<!DOCTYPE html>\n",
        "<html lang=\"en\">\n",
        "<head>\n",
        "  <title>Signup</title>\n",
        "  <meta charset=\"utf-8\">\n",
        "  <meta name=\"viewport\" content=\"width=device-width, initial-scale=1\">\n",
        "  <link rel=\"stylesheet\" href=\"https://maxcdn.bootstrapcdn.com/bootstrap/3.4.1/css/bootstrap.min.css\">\n",
        "  <script src=\"https://ajax.googleapis.com/ajax/libs/jquery/3.5.1/jquery.min.js\"></script>\n",
        "  <script src=\"https://maxcdn.bootstrapcdn.com/bootstrap/3.4.1/js/bootstrap.min.js\"></script>\n",
        "</head>\n",
        "\n",
        "<body>\n",
        "\n",
        "<div class=\"container\">\n",
        "  </br>\n",
        "  <form class=\"form-horizontal\" action=\"/api/form\" method=\"post\">\n",
        "\n",
        "    <div class=\"form-group\">\n",
        "      <label class=\"control-label col-sm-2\" for=\"name\">Name:</label>\n",
        "      <div class=\"col-sm-10\">\n",
        "        <input type=\"text\" class=\"form-control\" id=\"name\" placeholder=\"Enter name\" name=\"name\" required>\n",
        "      </div>\n",
        "    </div>\n",
        "\n",
        "    <div class=\"form-group\">        \n",
        "      <div class=\"col-sm-offset-2 col-sm-10\">\n",
        "        <div class=\"checkbox\">\n",
        "          <label><input type=\"checkbox\" name=\"remember\"> Remember me</label>\n",
        "        </div>\n",
        "      </div>\n",
        "    </div>\n",
        "\n",
        "    <div class=\"form-group\">        \n",
        "      <div class=\"col-sm-offset-2 col-sm-10\">\n",
        "        <button type=\"submit\" class=\"btn btn-default\">Submit</button>\n",
        "      </div>\n",
        "    </div>\n",
        "\n",
        "  </form>\n",
        "</div>\n",
        "\n",
        "</body>\n",
        "</html>"
      ],
      "execution_count": null,
      "outputs": []
    },
    {
      "cell_type": "markdown",
      "metadata": {
        "id": "ZgulVfoo39Qd"
      },
      "source": [
        "## Django"
      ]
    },
    {
      "cell_type": "code",
      "metadata": {
        "id": "8NEnLzTZ_RMd"
      },
      "source": [
        "pip install django djangorestframework"
      ],
      "execution_count": null,
      "outputs": []
    },
    {
      "cell_type": "markdown",
      "metadata": {
        "id": "dSMNbnPD5GBx"
      },
      "source": [
        "### 1- Create a virutal environment and install Django"
      ]
    },
    {
      "cell_type": "code",
      "metadata": {
        "id": "pBBU2Z1Q4RfT"
      },
      "source": [
        "py -3.7 -m venv venv\n",
        ".\\venv\\Scripts\\activate\n",
        "py -m pip install --upgrade pip\n",
        "pip install django djangorestframework"
      ],
      "execution_count": null,
      "outputs": []
    },
    {
      "cell_type": "markdown",
      "metadata": {
        "id": "gk7kIA0G5TZv"
      },
      "source": [
        "### 2- Create a new project"
      ]
    },
    {
      "cell_type": "code",
      "metadata": {
        "id": "DUXI6oJH5USy"
      },
      "source": [
        "django-admin startproject myProject\n",
        "django-admin startapp myApp"
      ],
      "execution_count": null,
      "outputs": []
    },
    {
      "cell_type": "markdown",
      "metadata": {
        "id": "9y9HU8XGKOKu"
      },
      "source": [
        "Cut all the contents of `myProject` into the current directory, then:"
      ]
    },
    {
      "cell_type": "code",
      "metadata": {
        "id": "Ab3HUutLKOyb"
      },
      "source": [
        "py manage.py migrate\n",
        "code ."
      ],
      "execution_count": null,
      "outputs": []
    },
    {
      "cell_type": "markdown",
      "metadata": {
        "id": "NcnZ1hn--moO"
      },
      "source": [
        "Finally, go to `myProject/settings.py`, and add your application name, `myApp`, to the `INSTALLED_APPS`."
      ]
    },
    {
      "cell_type": "markdown",
      "metadata": {
        "id": "HkSs6MZ4_ihw"
      },
      "source": [
        "### 3- Run the project"
      ]
    },
    {
      "cell_type": "code",
      "metadata": {
        "id": "6RyV1Tt3_Xjo"
      },
      "source": [
        "py manage.py runserver"
      ],
      "execution_count": null,
      "outputs": []
    },
    {
      "cell_type": "markdown",
      "metadata": {
        "id": "wecQYo8Nkq2T"
      },
      "source": [
        "### 4- Add API to the existing project"
      ]
    },
    {
      "cell_type": "markdown",
      "metadata": {
        "id": "-_Jl-V-ilQtZ"
      },
      "source": [
        "`myProject/settings.py`:"
      ]
    },
    {
      "cell_type": "code",
      "metadata": {
        "id": "Hethxn-clwYP"
      },
      "source": [
        "INSTALLED_APPS = [\n",
        "    'django.contrib.admin',\n",
        "    'django.contrib.auth',\n",
        "    'django.contrib.contenttypes',\n",
        "    'django.contrib.sessions',\n",
        "    'django.contrib.messages',\n",
        "    'django.contrib.staticfiles',\n",
        "\n",
        "    'myApp',\n",
        "    'rest_framework'  # add this line\n",
        "]"
      ],
      "execution_count": null,
      "outputs": []
    },
    {
      "cell_type": "markdown",
      "metadata": {
        "id": "D5wN1-R8mABK"
      },
      "source": [
        "`myProject/urls.py`:"
      ]
    },
    {
      "cell_type": "code",
      "metadata": {
        "id": "HMRbnLqfmPJ2"
      },
      "source": [
        "from django.contrib import admin\n",
        "from django.urls import path, include   # addd include\n",
        "\n",
        "urlpatterns = [\n",
        "    path('admin/', admin.site.urls),\n",
        "    path('', include('myApp.urls'))  # add this line\n",
        "]"
      ],
      "execution_count": null,
      "outputs": []
    },
    {
      "cell_type": "markdown",
      "metadata": {
        "id": "-Q6ncp8InbHA"
      },
      "source": [
        "`myApp/views.py`:"
      ]
    },
    {
      "cell_type": "code",
      "metadata": {
        "id": "PrUB6fUCnfbO"
      },
      "source": [
        "from rest_framework.decorators import api_view\n",
        "from rest_framework.response import Response\n",
        "from rest_framework import status\n",
        "\n",
        "\n",
        "@api_view(['GET', 'POST'])\n",
        "def hello(request):\n",
        "    try:\n",
        "        if request.method == 'GET':\n",
        "            return Response({'message': 'Hello, World!'})\n",
        "        else:\n",
        "            return Response({'message': f'Hello, {request.data[\"name\"]}'})\n",
        "    except:\n",
        "        return Response({'error': 'Error happened'}, status=status.HTTP_400_BAD_REQUEST)"
      ],
      "execution_count": null,
      "outputs": []
    },
    {
      "cell_type": "markdown",
      "metadata": {
        "id": "zVMcbiwgoSK-"
      },
      "source": [
        "`myApp/urls.py` (Should be created):"
      ]
    },
    {
      "cell_type": "code",
      "metadata": {
        "id": "p_56ZLO5obeA"
      },
      "source": [
        "from django.urls import path\n",
        "from myApp import views\n",
        "\n",
        "urlpatterns = [\n",
        "    path('hello', views.hello)\n",
        "]"
      ],
      "execution_count": null,
      "outputs": []
    },
    {
      "cell_type": "markdown",
      "metadata": {
        "id": "SeZvfxq3SK6D"
      },
      "source": [
        "### 5- Add Model and Serializer:"
      ]
    },
    {
      "cell_type": "markdown",
      "metadata": {
        "id": "VPa1a8ezSXSR"
      },
      "source": [
        "`myApp/models.py`:"
      ]
    },
    {
      "cell_type": "code",
      "metadata": {
        "id": "r7Ar5_yCSUFs"
      },
      "source": [
        "from django.db import models\n",
        "\n",
        "class YourClassName(models.Model):\n",
        "  param1 = models.CharField(max_length=25)\n",
        "  param2 = models.IntegerField()\n",
        "  param3 = models.CharField(max_length=5,\n",
        "            choices=((\"abdce\", \"First Choice\"),\n",
        "                     (\"edcba\", \"Second Choice\")))"
      ],
      "execution_count": null,
      "outputs": []
    },
    {
      "cell_type": "markdown",
      "metadata": {
        "id": "Daf_Ka1yVRyI"
      },
      "source": [
        "Run the following commands to create the model:"
      ]
    },
    {
      "cell_type": "code",
      "metadata": {
        "id": "z8vPs-BMVZUi"
      },
      "source": [
        "py manage.py makemigrations\n",
        "py manage.py migrate"
      ],
      "execution_count": null,
      "outputs": []
    },
    {
      "cell_type": "markdown",
      "metadata": {
        "id": "xbgBsd3fWXlk"
      },
      "source": [
        "`myApp/serializers.py`:"
      ]
    },
    {
      "cell_type": "code",
      "metadata": {
        "id": "PyyaufNrWaep"
      },
      "source": [
        "from rest_framework import serilizers\n",
        "\n",
        "class YourClassNameSerializer(serializers.Serializer):\n",
        "  param1 = serializers.IntegerField(required=True)\n",
        "  param2 = serializers.CharField(required=True, max_length=3)"
      ],
      "execution_count": null,
      "outputs": []
    },
    {
      "cell_type": "markdown",
      "metadata": {
        "id": "9lzC_UDxXGw8"
      },
      "source": [
        "`myApp/views.py`:"
      ]
    },
    {
      "cell_type": "code",
      "metadata": {
        "id": "87ZjtfeXXeoq"
      },
      "source": [
        "from rest_framework.decorators import api_view\n",
        "from rest_framework.response import Response\n",
        "from rest_framework import status\n",
        "from .serializers import YourClassNameSerializer\n",
        "\n",
        "@api_view(['POST'])\n",
        "def func(request):\n",
        "  ser = YourClassNameSerializer(data=request.data)\n",
        "  if ser.is_valid():\n",
        "    data = ser.data\n",
        "  else:\n",
        "    return Response(ser.errors, status=status.HTTP_400_BAD_REQUEST)"
      ],
      "execution_count": null,
      "outputs": []
    }
  ]
}