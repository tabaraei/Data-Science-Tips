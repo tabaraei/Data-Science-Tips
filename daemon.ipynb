{
  "nbformat": 4,
  "nbformat_minor": 0,
  "metadata": {
    "colab": {
      "name": "daemon.ipynb",
      "provenance": [],
      "authorship_tag": "ABX9TyOgZ6beC3eGQlBbT/8p6R2h",
      "include_colab_link": true
    },
    "kernelspec": {
      "name": "python3",
      "display_name": "Python 3"
    },
    "language_info": {
      "name": "python"
    }
  },
  "cells": [
    {
      "cell_type": "markdown",
      "metadata": {
        "id": "view-in-github",
        "colab_type": "text"
      },
      "source": [
        "<a href=\"https://colab.research.google.com/github/tabaraei/Data-Science-Tips/blob/master/daemon.ipynb\" target=\"_parent\"><img src=\"https://colab.research.google.com/assets/colab-badge.svg\" alt=\"Open In Colab\"/></a>"
      ]
    },
    {
      "cell_type": "markdown",
      "metadata": {
        "id": "SLw_Fsik6Sh3"
      },
      "source": [
        "### Stop a linux daemon\n",
        "1. Stop the daemon\n",
        "2. Delete the daemon\n",
        "3. Delete the project repository"
      ]
    },
    {
      "cell_type": "code",
      "metadata": {
        "id": "jp3fXXgD6TMG"
      },
      "source": [
        "app=app-name\n",
        "systemctl stop ${app}.service\n",
        "rm /etc/systemd/system/${app}.service\n",
        "rm -r /srv/${app}/"
      ],
      "execution_count": null,
      "outputs": []
    }
  ]
}